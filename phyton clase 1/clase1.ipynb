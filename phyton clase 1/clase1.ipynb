{
 "cells": [
  {
   "cell_type": "markdown",
   "metadata": {},
   "source": [
    "##### Variables en phyton"
   ]
  },
  {
   "cell_type": "code",
   "execution_count": 1,
   "metadata": {},
   "outputs": [
    {
     "name": "stdout",
     "output_type": "stream",
     "text": [
      "hola\n"
     ]
    }
   ],
   "source": [
    "print(\"hola\")"
   ]
  },
  {
   "cell_type": "code",
   "execution_count": null,
   "metadata": {},
   "outputs": [],
   "source": [
    "number_1 = 10\n",
    "\n",
    "number_2 = 20"
   ]
  },
  {
   "cell_type": "code",
   "execution_count": null,
   "metadata": {},
   "outputs": [],
   "source": [
    "Kilomangoverde = 30"
   ]
  },
  {
   "cell_type": "code",
   "execution_count": null,
   "metadata": {},
   "outputs": [],
   "source": [
    "Kilo_mango_verde = 30"
   ]
  },
  {
   "cell_type": "code",
   "execution_count": null,
   "metadata": {},
   "outputs": [],
   "source": [
    "KiloMangoVerde = 30"
   ]
  },
  {
   "cell_type": "code",
   "execution_count": null,
   "metadata": {},
   "outputs": [
    {
     "name": "stdout",
     "output_type": "stream",
     "text": [
      "la suma da:  30\n",
      "El numero 1 vale: 10\n",
      "el numero 2 vale: 20 \n"
     ]
    }
   ],
   "source": [
    "# suma\n",
    "\n",
    "suma = number_1 + number_2\n",
    "\n",
    "print(\"la suma da: \", suma )\n",
    "\n",
    "print ( f\"El numero 1 vale: {number_1}\" )\n",
    "\n",
    "print ( f\"el numero 2 vale: {number_2}\" )"
   ]
  },
  {
   "cell_type": "code",
   "execution_count": null,
   "metadata": {},
   "outputs": [],
   "source": [
    "number_3 = 55"
   ]
  },
  {
   "cell_type": "code",
   "execution_count": null,
   "metadata": {},
   "outputs": [],
   "source": [
    "number_3 = 91"
   ]
  },
  {
   "cell_type": "code",
   "execution_count": null,
   "metadata": {},
   "outputs": [
    {
     "name": "stdout",
     "output_type": "stream",
     "text": [
      "55\n"
     ]
    }
   ],
   "source": [
    "print (number_3)"
   ]
  },
  {
   "cell_type": "code",
   "execution_count": null,
   "metadata": {},
   "outputs": [
    {
     "name": "stdout",
     "output_type": "stream",
     "text": [
      "El resultado de la resta es: -10\n",
      "El resultado de la multiplicacion es: 200 \n",
      "El resultado de la divicion es: 2.75\n"
     ]
    }
   ],
   "source": [
    "# resta, multiplicacion y division\n",
    "\n",
    "substraccion = number_1 - number_2\n",
    "\n",
    "print( f\"El resultado de la resta es: {substraccion}\" )\n",
    "\n",
    "multi = number_1 * number_2\n",
    "\n",
    "print( f\"El resultado de la multiplicacion es: {multi} \" )\n",
    "\n",
    "div = number_3 / number_2\n",
    "print( f\"El resultado de la divicion es: {div}\" )"
   ]
  },
  {
   "cell_type": "code",
   "execution_count": null,
   "metadata": {},
   "outputs": [],
   "source": [
    "number_4 = 1/99\n",
    "number_4 = round ( number_4, 2 )"
   ]
  },
  {
   "cell_type": "code",
   "execution_count": null,
   "metadata": {},
   "outputs": [
    {
     "name": "stdout",
     "output_type": "stream",
     "text": [
      "La edad es: 15\n",
      "El doble de la edad es: 30\n"
     ]
    }
   ],
   "source": [
    "# ingresar datos por teclado\n",
    "age = input( \"ingrese su edad: \" )\n",
    "\n",
    "# datos enteros\n",
    "\n",
    "age = int( age )\n",
    "\n",
    "doble = age * 2\n",
    "\n",
    "print( f\"La edad es: {age}\" )\n",
    "\n",
    "print( f\"El doble de la edad es: {doble}\" )"
   ]
  },
  {
   "cell_type": "code",
   "execution_count": null,
   "metadata": {},
   "outputs": [
    {
     "name": "stdout",
     "output_type": "stream",
     "text": [
      "k es mayor que h\n"
     ]
    }
   ],
   "source": [
    "# Condicionales\n",
    "\n",
    "number_1 = input(\"numero 1: \")\n",
    "\n",
    "number_2 = input(\"numero 2: \")\n",
    "\n",
    "if number_1 > number_2:\n",
    "\n",
    "    print( f\"{number_1} es mayor que {number_2}\" )\n",
    "\n",
    "if number_1 < number_2:\n",
    "\n",
    "    print( f\"{number_2} es mayor que {number_1}\" )"
   ]
  },
  {
   "cell_type": "code",
   "execution_count": null,
   "metadata": {},
   "outputs": [
    {
     "name": "stdout",
     "output_type": "stream",
     "text": [
      "11 es mayor o igual que 11\n"
     ]
    }
   ],
   "source": [
    "# mayor o igual\n",
    "number_1 = 11\n",
    "number_2 = 11\n",
    "if number_1 >= number_2:\n",
    "\n",
    "    print( f\"{number_1} es mayor o igual que {number_2}\" )\n",
    "\n",
    "else:\n",
    "    print( \"menor\" )"
   ]
  },
  {
   "cell_type": "code",
   "execution_count": null,
   "metadata": {},
   "outputs": [
    {
     "name": "stdout",
     "output_type": "stream",
     "text": [
      "11 es igual a 11\n"
     ]
    }
   ],
   "source": [
    "# igual\n",
    "number_1 = 11\n",
    "number_2 = 11\n",
    "if number_1 == number_2:\n",
    "\n",
    "    print( f\"{number_1} es igual a {number_2}\" )\n",
    "\n",
    "else:\n",
    "    print( f\"{number_1} es diferente a {number_2} \" )"
   ]
  },
  {
   "cell_type": "code",
   "execution_count": null,
   "metadata": {},
   "outputs": [
    {
     "name": "stdout",
     "output_type": "stream",
     "text": [
      "11 es diferente a 12\n"
     ]
    }
   ],
   "source": [
    "# diferente\n",
    "number_1 = 11\n",
    "number_2 = 12\n",
    "if number_1 != number_2:\n",
    "\n",
    "    print( f\"{number_1} es diferente a {number_2}\" )\n",
    "\n",
    "else:\n",
    "    print( f\"{number_1} es igual a {number_2} \" )"
   ]
  },
  {
   "cell_type": "code",
   "execution_count": null,
   "metadata": {},
   "outputs": [
    {
     "data": {
      "text/plain": [
       "int"
      ]
     },
     "execution_count": 118,
     "metadata": {},
     "output_type": "execute_result"
    }
   ],
   "source": [
    "# que tipo de dato es una variable\n",
    "\n",
    "type( number_1 )\n"
   ]
  },
  {
   "cell_type": "code",
   "execution_count": 23,
   "metadata": {},
   "outputs": [
    {
     "ename": "ValueError",
     "evalue": "invalid literal for int() with base 10: '8uiuj'",
     "output_type": "error",
     "traceback": [
      "\u001b[1;31m---------------------------------------------------------------------------\u001b[0m",
      "\u001b[1;31mValueError\u001b[0m                                Traceback (most recent call last)",
      "Cell \u001b[1;32mIn [23], line 2\u001b[0m\n\u001b[0;32m      1\u001b[0m \u001b[39m# caso discoteca\u001b[39;00m\n\u001b[1;32m----> 2\u001b[0m edad \u001b[39m=\u001b[39m \u001b[39mint\u001b[39;49m( \u001b[39minput\u001b[39;49m( \u001b[39m\"\u001b[39;49m\u001b[39mIngrese su edad\u001b[39;49m\u001b[39m\"\u001b[39;49m ) )\n\u001b[0;32m      4\u001b[0m \u001b[39mif\u001b[39;00m edad \u001b[39m>\u001b[39m\u001b[39m=\u001b[39m \u001b[39m18\u001b[39m:\n\u001b[0;32m      5\u001b[0m     \u001b[39mprint\u001b[39m( \u001b[39m\"\u001b[39m\u001b[39mPuede ingresar\u001b[39m\u001b[39m\"\u001b[39m )\n",
      "\u001b[1;31mValueError\u001b[0m: invalid literal for int() with base 10: '8uiuj'"
     ]
    }
   ],
   "source": [
    "# caso discoteca\n",
    "edad = int( input( \"Ingrese su edad\" ) )\n",
    "\n",
    "if edad >= 18:\n",
    "    print( \"Puede ingresar\" )\n",
    "\n",
    "else:\n",
    "    print( \"No pasa\" )"
   ]
  },
  {
   "cell_type": "code",
   "execution_count": 28,
   "metadata": {},
   "outputs": [
    {
     "name": "stdout",
     "output_type": "stream",
     "text": [
      "gana jugador 2, piedra gana a tijera\n"
     ]
    }
   ],
   "source": [
    "# piedra papel o tijeras\n",
    "\n",
    "jugada_1 = str( input( \"jugador 1 ingrese su jugada\" ) )\n",
    "jugada_2 = str( input( \"jugador 2 ingrese su jugada\" ) )\n",
    "\n",
    "piedra = 'piedra'\n",
    "papel = 'papel'\n",
    "tijera = 'tijera'\n",
    "\n",
    "if jugada_1 == piedra and jugada_2 == tijera:\n",
    "    print( \"gana jugador 1, piedra gana a tijera\" )\n",
    "\n",
    "elif jugada_2 == piedra and jugada_1 == tijera:\n",
    "    print( \"gana jugador 2, piedra gana a tijera\" )\n",
    "\n",
    "elif jugada_1 == piedra and jugada_2 == papel:\n",
    "    print( \"gana jugador 2, papel gana a piedra\" ) \n",
    "\n",
    "elif jugada_2 == piedra and jugada_1 == papel:\n",
    "    print( \"gana jugador 1, papel gana a piedra\" ) \n",
    "\n",
    "elif jugada_1 == piedra  and jugada_2 == jugada_1:\n",
    "    print( \"empate, piedra es igual a piedra\" )\n",
    "\n",
    "elif jugada_1 == papel and jugada_2 == piedra:\n",
    "    print( \"gana jugador 1, papel gana a piedra\" )\n",
    "\n",
    "elif jugada_2 == papel and jugada_1 == piedra:\n",
    "    print( \"gana jugador 2, papel gana a piedra\" )\n",
    "\n",
    "elif jugada_1 == papel  and jugada_2 == jugada_1:\n",
    "    print( \"empate, papel es igual a papel\" )\n",
    "\n",
    "elif jugada_1 == papel and jugada_2 == tijera:\n",
    "    print( \"gana jugador 2, tijera gana a papel\" )\n",
    "\n",
    "elif jugada_2 == papel and jugada_1 == tijera:\n",
    "    print( \"gana jugador 1, tijera gana a papel\" )\n",
    "\n"
   ]
  },
  {
   "cell_type": "code",
   "execution_count": 1,
   "metadata": {},
   "outputs": [
    {
     "ename": "SyntaxError",
     "evalue": "expected ':' (1293976894.py, line 5)",
     "output_type": "error",
     "traceback": [
      "\u001b[1;36m  Cell \u001b[1;32mIn [1], line 5\u001b[1;36m\u001b[0m\n\u001b[1;33m    if day == \"sabado\"\u001b[0m\n\u001b[1;37m                      ^\u001b[0m\n\u001b[1;31mSyntaxError\u001b[0m\u001b[1;31m:\u001b[0m expected ':'\n"
     ]
    }
   ],
   "source": [
    "# caso discoteca (solo abre viernes y sabado)\n",
    "edad = int( input( \"Ingrese su edad\" ) )\n",
    "day = input( \"Dia de la semana\" )\n",
    "\n",
    "if day == \"sabado\"\n",
    "    if edad >= 18:\n",
    "        print( \"Puede ingresar\" )\n",
    "    else:\n",
    "        print( \"Fuera menor\" )\n",
    "\n",
    "else:\n",
    "    print( \"No es sabado\" )"
   ]
  },
  {
   "cell_type": "code",
   "execution_count": 1,
   "metadata": {},
   "outputs": [
    {
     "ename": "SyntaxError",
     "evalue": "expected ':' (1627387115.py, line 5)",
     "output_type": "error",
     "traceback": [
      "\u001b[1;36m  Cell \u001b[1;32mIn [1], line 5\u001b[1;36m\u001b[0m\n\u001b[1;33m    if day == \"sabado\"\u001b[0m\n\u001b[1;37m                      ^\u001b[0m\n\u001b[1;31mSyntaxError\u001b[0m\u001b[1;31m:\u001b[0m expected ':'\n"
     ]
    }
   ],
   "source": [
    "# caso discoteca (solo abre viernes y sabado) prueba\n",
    "edad = int( input( \"Ingrese su edad\" ) )\n",
    "day = input( \"Dia de la semana\" )\n",
    "\n",
    "if day == \"sabado\"\n",
    "    if edad >= 18:\n",
    "        print( \"Puede ingresar\" )\n",
    "    else:\n",
    "        print( \"Fuera menor\" )\n",
    "\n",
    "else:\n",
    "    print( \"No es sabado\" )"
   ]
  }
 ],
 "metadata": {
  "kernelspec": {
   "display_name": "Python 3.10.7 64-bit",
   "language": "python",
   "name": "python3"
  },
  "language_info": {
   "codemirror_mode": {
    "name": "ipython",
    "version": 3
   },
   "file_extension": ".py",
   "mimetype": "text/x-python",
   "name": "python",
   "nbconvert_exporter": "python",
   "pygments_lexer": "ipython3",
   "version": "3.10.7"
  },
  "orig_nbformat": 4,
  "vscode": {
   "interpreter": {
    "hash": "f3d558277e1468fbd6155e81dfccdb965f1cd2a6d9d32bde37de1e4b5da945bd"
   }
  }
 },
 "nbformat": 4,
 "nbformat_minor": 2
}
